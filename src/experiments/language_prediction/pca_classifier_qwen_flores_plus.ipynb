{
 "cells": [
  {
   "cell_type": "code",
   "execution_count": 1,
   "metadata": {},
   "outputs": [],
   "source": [
    "%load_ext autoreload\n",
    "%autoreload 2\n",
    "%matplotlib widget"
   ]
  },
  {
   "cell_type": "code",
   "execution_count": 2,
   "metadata": {},
   "outputs": [],
   "source": [
    "from transformers import AutoModelForCausalLM, AutoTokenizer\n",
    "\n",
    "from core.utils.device import DEVICE\n",
    "from core.utils.theme import set_theme\n",
    "\n",
    "set_theme()\n",
    "\n",
    "model = AutoModelForCausalLM.from_pretrained(\"Qwen/Qwen2.5-1.5B\")\n",
    "model.to(DEVICE)\n",
    "model.eval()\n",
    "tokenizer = AutoTokenizer.from_pretrained(\"Qwen/Qwen2.5-1.5B\")"
   ]
  },
  {
   "cell_type": "code",
   "execution_count": 9,
   "metadata": {},
   "outputs": [],
   "source": [
    "import numpy as np\n",
    "from sklearn.linear_model import LogisticRegression\n",
    "\n",
    "from core.steering.pca import PCASteering\n",
    "\n",
    "\n",
    "def projections_to_Xy(projections, langs, num_of_pca_components):\n",
    "    lang1_data = projections[langs[0]][-1].numpy()\n",
    "    lang2_data = projections[langs[1]][-1].numpy()\n",
    "    X = np.vstack([lang1_data, lang2_data])\n",
    "    y = np.array([1] * lang1_data.shape[0] + [0] * lang2_data.shape[0])\n",
    "    X = X[:, :num_of_pca_components]\n",
    "\n",
    "    return X, y\n",
    "\n",
    "\n",
    "def train_and_score(projections_train, projections_test, num_of_pca_components=1):\n",
    "    \"\"\"\n",
    "    hidden_space_by_language: { [lang]: torch.Tensor([n_layers, n_tokens, d_model]) }\n",
    "    \"\"\"\n",
    "    langs = list(projections_train.keys())\n",
    "    X_trn, y_trn = projections_to_Xy(projections_train, langs, num_of_pca_components)\n",
    "    X_tst, y_tst = projections_to_Xy(projections_test, langs, num_of_pca_components)\n",
    "\n",
    "    classifier = LogisticRegression(random_state=42, penalty=\"l2\")\n",
    "\n",
    "    classifier.fit(X_trn, y_trn)\n",
    "    train_accuracy = classifier.score(X_trn, y_trn)\n",
    "    test_accuracy = classifier.score(X_tst, y_tst)\n",
    "\n",
    "    print(\n",
    "        f\"# of PCA components: {num_of_pca_components}, train accuracy {train_accuracy:.4f}, test accuracy {test_accuracy:.4f}\"\n",
    "    )"
   ]
  },
  {
   "cell_type": "markdown",
   "metadata": {},
   "source": [
    "# EN-RU\n"
   ]
  },
  {
   "cell_type": "code",
   "execution_count": null,
   "metadata": {},
   "outputs": [
    {
     "data": {
      "application/vnd.jupyter.widget-view+json": {
       "model_id": "dd04b5013f4045788daeba53cef863cf",
       "version_major": 2,
       "version_minor": 0
      },
      "text/plain": [
       "Resolving data files:   0%|          | 0/220 [00:00<?, ?it/s]"
      ]
     },
     "metadata": {},
     "output_type": "display_data"
    },
    {
     "data": {
      "application/vnd.jupyter.widget-view+json": {
       "model_id": "b53bfb0218644045ab56a9fbac52d0c2",
       "version_major": 2,
       "version_minor": 0
      },
      "text/plain": [
       "Resolving data files:   0%|          | 0/214 [00:00<?, ?it/s]"
      ]
     },
     "metadata": {},
     "output_type": "display_data"
    },
    {
     "data": {
      "application/vnd.jupyter.widget-view+json": {
       "model_id": "65a019c5061b48feb48d81f0380f9261",
       "version_major": 2,
       "version_minor": 0
      },
      "text/plain": [
       "Resolving data files:   0%|          | 0/220 [00:00<?, ?it/s]"
      ]
     },
     "metadata": {},
     "output_type": "display_data"
    },
    {
     "data": {
      "application/vnd.jupyter.widget-view+json": {
       "model_id": "9af77638cb694ae785cb9b7eef0d9ef2",
       "version_major": 2,
       "version_minor": 0
      },
      "text/plain": [
       "Resolving data files:   0%|          | 0/214 [00:00<?, ?it/s]"
      ]
     },
     "metadata": {},
     "output_type": "display_data"
    },
    {
     "name": "stdout",
     "output_type": "stream",
     "text": [
      "Data len:  50\n"
     ]
    },
    {
     "name": "stderr",
     "output_type": "stream",
     "text": [
      "100%|██████████| 50/50 [00:13<00:00,  3.82it/s]\n"
     ]
    },
    {
     "name": "stdout",
     "output_type": "stream",
     "text": [
      "Data len:  100\n"
     ]
    },
    {
     "name": "stderr",
     "output_type": "stream",
     "text": [
      "100%|██████████| 100/100 [00:25<00:00,  3.96it/s]\n"
     ]
    },
    {
     "name": "stdout",
     "output_type": "stream",
     "text": [
      "# of PCA components: 1, train accuracy 0.9982, test accuracy 0.9914\n"
     ]
    }
   ],
   "source": [
    "from core.gather_data.hidden_space import collect_hidden_space_by_language\n",
    "from core.preprocess_data.flores_plus import load_flores_plus\n",
    "\n",
    "train_df, test_df = load_flores_plus([\"eng_Latn\", \"rus_Cyrl\"], {\"eng_Latn\": \"en\", \"rus_Cyrl\": \"ru\"}, train_size=50)\n",
    "\n",
    "test_df = test_df[:100]\n",
    "\n",
    "hidden_space_by_language_train, token_map_for_language_train = collect_hidden_space_by_language(\n",
    "    model, tokenizer, train_df, skip_first=True\n",
    ")\n",
    "hidden_space_by_language_test, token_map_for_language_test = collect_hidden_space_by_language(\n",
    "    model, tokenizer, test_df, skip_first=True\n",
    ")\n",
    "\n",
    "pca_steering = PCASteering().fit(hidden_space_by_language_train)\n",
    "\n",
    "projections_train = pca_steering.project(hidden_space_by_language_train)\n",
    "projections_test = pca_steering.project(hidden_space_by_language_test)\n",
    "\n",
    "train_and_score(projections_train, projections_test)"
   ]
  },
  {
   "cell_type": "markdown",
   "metadata": {},
   "source": [
    "# EN-CN\n"
   ]
  },
  {
   "cell_type": "code",
   "execution_count": 11,
   "metadata": {},
   "outputs": [
    {
     "data": {
      "application/vnd.jupyter.widget-view+json": {
       "model_id": "13d9f584dc954d07b8003e4a0bb740ce",
       "version_major": 2,
       "version_minor": 0
      },
      "text/plain": [
       "Resolving data files:   0%|          | 0/220 [00:00<?, ?it/s]"
      ]
     },
     "metadata": {},
     "output_type": "display_data"
    },
    {
     "data": {
      "application/vnd.jupyter.widget-view+json": {
       "model_id": "a610a5ec5b4a4b8b95d96d4c1d522d4f",
       "version_major": 2,
       "version_minor": 0
      },
      "text/plain": [
       "Resolving data files:   0%|          | 0/214 [00:00<?, ?it/s]"
      ]
     },
     "metadata": {},
     "output_type": "display_data"
    },
    {
     "data": {
      "application/vnd.jupyter.widget-view+json": {
       "model_id": "fa2276497ef24d1b8bd9d013b397df7c",
       "version_major": 2,
       "version_minor": 0
      },
      "text/plain": [
       "Resolving data files:   0%|          | 0/220 [00:00<?, ?it/s]"
      ]
     },
     "metadata": {},
     "output_type": "display_data"
    },
    {
     "data": {
      "application/vnd.jupyter.widget-view+json": {
       "model_id": "79ecf86463c64c138e13f17fb4b219f0",
       "version_major": 2,
       "version_minor": 0
      },
      "text/plain": [
       "Resolving data files:   0%|          | 0/214 [00:00<?, ?it/s]"
      ]
     },
     "metadata": {},
     "output_type": "display_data"
    },
    {
     "name": "stdout",
     "output_type": "stream",
     "text": [
      "Data len:  50\n"
     ]
    },
    {
     "name": "stderr",
     "output_type": "stream",
     "text": [
      "100%|██████████| 50/50 [00:09<00:00,  5.10it/s]\n"
     ]
    },
    {
     "name": "stdout",
     "output_type": "stream",
     "text": [
      "Data len:  100\n"
     ]
    },
    {
     "name": "stderr",
     "output_type": "stream",
     "text": [
      "100%|██████████| 100/100 [00:21<00:00,  4.66it/s]\n"
     ]
    },
    {
     "name": "stdout",
     "output_type": "stream",
     "text": [
      "# of PCA components: 1, train accuracy 0.9808, test accuracy 0.9810\n"
     ]
    }
   ],
   "source": [
    "from core.gather_data.hidden_space import collect_hidden_space_by_language\n",
    "from core.preprocess_data.flores_plus import load_flores_plus\n",
    "from core.steering.pca import PCASteering\n",
    "\n",
    "train_df, test_df = load_flores_plus([\"eng_Latn\", \"cmn_Hans\"], {\"eng_Latn\": \"en\", \"cmn_Hans\": \"cn\"}, train_size=50)\n",
    "\n",
    "test_df = test_df[:100]\n",
    "\n",
    "hidden_space_by_language_train, token_map_for_language_train = collect_hidden_space_by_language(\n",
    "    model, tokenizer, train_df, skip_first=True\n",
    ")\n",
    "hidden_space_by_language_test, token_map_for_language_test = collect_hidden_space_by_language(\n",
    "    model, tokenizer, test_df, skip_first=True\n",
    ")\n",
    "\n",
    "pca_steering = PCASteering().fit(hidden_space_by_language_train)\n",
    "\n",
    "projections_train = pca_steering.project(hidden_space_by_language_train)\n",
    "projections_test = pca_steering.project(hidden_space_by_language_test)\n",
    "\n",
    "train_and_score(projections_train, projections_test)"
   ]
  },
  {
   "cell_type": "markdown",
   "metadata": {},
   "source": [
    "# EN-ES\n"
   ]
  },
  {
   "cell_type": "code",
   "execution_count": 13,
   "metadata": {},
   "outputs": [
    {
     "data": {
      "application/vnd.jupyter.widget-view+json": {
       "model_id": "33d48f18b0004f0eb6c0fa4c7f7dce03",
       "version_major": 2,
       "version_minor": 0
      },
      "text/plain": [
       "Resolving data files:   0%|          | 0/220 [00:00<?, ?it/s]"
      ]
     },
     "metadata": {},
     "output_type": "display_data"
    },
    {
     "data": {
      "application/vnd.jupyter.widget-view+json": {
       "model_id": "17d5b4abf407489c87a2e2c7147d8419",
       "version_major": 2,
       "version_minor": 0
      },
      "text/plain": [
       "Resolving data files:   0%|          | 0/214 [00:00<?, ?it/s]"
      ]
     },
     "metadata": {},
     "output_type": "display_data"
    },
    {
     "data": {
      "application/vnd.jupyter.widget-view+json": {
       "model_id": "ec60f78468ab4de68e5e8b1f3f5a59a8",
       "version_major": 2,
       "version_minor": 0
      },
      "text/plain": [
       "Resolving data files:   0%|          | 0/220 [00:00<?, ?it/s]"
      ]
     },
     "metadata": {},
     "output_type": "display_data"
    },
    {
     "data": {
      "application/vnd.jupyter.widget-view+json": {
       "model_id": "707cbd06715a492b8c5641871eb7d91f",
       "version_major": 2,
       "version_minor": 0
      },
      "text/plain": [
       "Resolving data files:   0%|          | 0/214 [00:00<?, ?it/s]"
      ]
     },
     "metadata": {},
     "output_type": "display_data"
    },
    {
     "name": "stdout",
     "output_type": "stream",
     "text": [
      "Data len:  50\n"
     ]
    },
    {
     "name": "stderr",
     "output_type": "stream",
     "text": [
      "100%|██████████| 50/50 [00:13<00:00,  3.76it/s]\n"
     ]
    },
    {
     "name": "stdout",
     "output_type": "stream",
     "text": [
      "Data len:  100\n"
     ]
    },
    {
     "name": "stderr",
     "output_type": "stream",
     "text": [
      "100%|██████████| 100/100 [00:24<00:00,  4.03it/s]\n"
     ]
    },
    {
     "name": "stdout",
     "output_type": "stream",
     "text": [
      "# of PCA components: 1, train accuracy 0.9541, test accuracy 0.9593\n"
     ]
    }
   ],
   "source": [
    "from core.gather_data.hidden_space import collect_hidden_space_by_language\n",
    "from core.preprocess_data.flores_plus import load_flores_plus\n",
    "from core.steering.pca import PCASteering\n",
    "\n",
    "train_df, test_df = load_flores_plus([\"eng_Latn\", \"spa_Latn\"], {\"eng_Latn\": \"en\", \"spa_Latn\": \"es\"}, train_size=50)\n",
    "\n",
    "test_df = test_df[:100]\n",
    "\n",
    "hidden_space_by_language_train, token_map_for_language_train = collect_hidden_space_by_language(\n",
    "    model, tokenizer, train_df, skip_first=True\n",
    ")\n",
    "hidden_space_by_language_test, token_map_for_language_test = collect_hidden_space_by_language(\n",
    "    model, tokenizer, test_df, skip_first=True\n",
    ")\n",
    "\n",
    "pca_steering = PCASteering().fit(hidden_space_by_language_train)\n",
    "\n",
    "projections_train = pca_steering.project(hidden_space_by_language_train)\n",
    "projections_test = pca_steering.project(hidden_space_by_language_test)\n",
    "\n",
    "train_and_score(projections_train, projections_test)"
   ]
  },
  {
   "cell_type": "markdown",
   "metadata": {},
   "source": [
    "# EN-HIN"
   ]
  },
  {
   "cell_type": "code",
   "execution_count": 14,
   "metadata": {},
   "outputs": [
    {
     "data": {
      "application/vnd.jupyter.widget-view+json": {
       "model_id": "9576e4d64ebe4f5f8b6490ec0a81bf53",
       "version_major": 2,
       "version_minor": 0
      },
      "text/plain": [
       "Resolving data files:   0%|          | 0/220 [00:00<?, ?it/s]"
      ]
     },
     "metadata": {},
     "output_type": "display_data"
    },
    {
     "data": {
      "application/vnd.jupyter.widget-view+json": {
       "model_id": "ce47f6136c4e4236af31a3dd6a2f0f19",
       "version_major": 2,
       "version_minor": 0
      },
      "text/plain": [
       "Resolving data files:   0%|          | 0/214 [00:00<?, ?it/s]"
      ]
     },
     "metadata": {},
     "output_type": "display_data"
    },
    {
     "data": {
      "application/vnd.jupyter.widget-view+json": {
       "model_id": "44183270463743cd8f2f0df86939de05",
       "version_major": 2,
       "version_minor": 0
      },
      "text/plain": [
       "Resolving data files:   0%|          | 0/220 [00:00<?, ?it/s]"
      ]
     },
     "metadata": {},
     "output_type": "display_data"
    },
    {
     "data": {
      "application/vnd.jupyter.widget-view+json": {
       "model_id": "2952ee35d685403b97c7819bfdb726ae",
       "version_major": 2,
       "version_minor": 0
      },
      "text/plain": [
       "Resolving data files:   0%|          | 0/214 [00:00<?, ?it/s]"
      ]
     },
     "metadata": {},
     "output_type": "display_data"
    },
    {
     "name": "stdout",
     "output_type": "stream",
     "text": [
      "Data len:  50\n"
     ]
    },
    {
     "name": "stderr",
     "output_type": "stream",
     "text": [
      "100%|██████████| 50/50 [00:11<00:00,  4.45it/s]\n"
     ]
    },
    {
     "name": "stdout",
     "output_type": "stream",
     "text": [
      "Data len:  100\n"
     ]
    },
    {
     "name": "stderr",
     "output_type": "stream",
     "text": [
      "100%|██████████| 100/100 [00:21<00:00,  4.68it/s]\n"
     ]
    },
    {
     "name": "stdout",
     "output_type": "stream",
     "text": [
      "# of PCA components: 1, train accuracy 0.9853, test accuracy 0.9799\n"
     ]
    }
   ],
   "source": [
    "from core.gather_data.hidden_space import collect_hidden_space_by_language\n",
    "from core.preprocess_data.flores_plus import load_flores_plus\n",
    "from core.steering.pca import PCASteering\n",
    "\n",
    "train_df, test_df = load_flores_plus([\"eng_Latn\", \"cmn_Hans\"], {\"eng_Latn\": \"en\", \"cmn_Hans\": \"hin\"}, train_size=50)\n",
    "\n",
    "test_df = test_df[:100]\n",
    "\n",
    "hidden_space_by_language_train, token_map_for_language_train = collect_hidden_space_by_language(\n",
    "    model, tokenizer, train_df, skip_first=True\n",
    ")\n",
    "hidden_space_by_language_test, token_map_for_language_test = collect_hidden_space_by_language(\n",
    "    model, tokenizer, test_df, skip_first=True\n",
    ")\n",
    "\n",
    "pca_steering = PCASteering().fit(hidden_space_by_language_train)\n",
    "\n",
    "projections_train = pca_steering.project(hidden_space_by_language_train)\n",
    "projections_test = pca_steering.project(hidden_space_by_language_test)\n",
    "\n",
    "train_and_score(projections_train, projections_test)"
   ]
  }
 ],
 "metadata": {
  "kernelspec": {
   "display_name": "lexical-reflections",
   "language": "python",
   "name": "python3"
  },
  "language_info": {
   "codemirror_mode": {
    "name": "ipython",
    "version": 3
   },
   "file_extension": ".py",
   "mimetype": "text/x-python",
   "name": "python",
   "nbconvert_exporter": "python",
   "pygments_lexer": "ipython3",
   "version": "3.12.0"
  }
 },
 "nbformat": 4,
 "nbformat_minor": 2
}
