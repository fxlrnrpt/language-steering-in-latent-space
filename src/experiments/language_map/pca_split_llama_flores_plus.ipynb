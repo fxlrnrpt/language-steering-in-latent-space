{
 "cells": [
  {
   "cell_type": "code",
   "execution_count": 1,
   "metadata": {},
   "outputs": [],
   "source": [
    "%load_ext autoreload\n",
    "%autoreload 2\n",
    "%matplotlib widget"
   ]
  },
  {
   "cell_type": "code",
   "execution_count": 2,
   "metadata": {},
   "outputs": [],
   "source": [
    "from transformers import AutoModelForCausalLM, AutoTokenizer\n",
    "\n",
    "from core.utils.device import DEVICE\n",
    "\n",
    "model = AutoModelForCausalLM.from_pretrained(\"meta-llama/Llama-3.2-1B\")\n",
    "model.to(DEVICE)\n",
    "model.eval()\n",
    "tokenizer = AutoTokenizer.from_pretrained(\"meta-llama/Llama-3.2-1B\")"
   ]
  },
  {
   "cell_type": "code",
   "execution_count": 3,
   "metadata": {},
   "outputs": [
    {
     "ename": "ModuleNotFoundError",
     "evalue": "No module named 'core.visualize.process_hidden_space'",
     "output_type": "error",
     "traceback": [
      "\u001b[31m---------------------------------------------------------------------------\u001b[39m",
      "\u001b[31mModuleNotFoundError\u001b[39m                       Traceback (most recent call last)",
      "\u001b[36mCell\u001b[39m\u001b[36m \u001b[39m\u001b[32mIn[3]\u001b[39m\u001b[32m, line 4\u001b[39m\n\u001b[32m      1\u001b[39m \u001b[38;5;28;01mimport\u001b[39;00m\u001b[38;5;250m \u001b[39m\u001b[34;01mnumpy\u001b[39;00m\u001b[38;5;250m \u001b[39m\u001b[38;5;28;01mas\u001b[39;00m\u001b[38;5;250m \u001b[39m\u001b[34;01mnp\u001b[39;00m\n\u001b[32m      3\u001b[39m \u001b[38;5;28;01mfrom\u001b[39;00m\u001b[38;5;250m \u001b[39m\u001b[34;01mcore\u001b[39;00m\u001b[34;01m.\u001b[39;00m\u001b[34;01mgather_data\u001b[39;00m\u001b[34;01m.\u001b[39;00m\u001b[34;01mhidden_space\u001b[39;00m\u001b[38;5;250m \u001b[39m\u001b[38;5;28;01mimport\u001b[39;00m collect_hidden_space_by_language\n\u001b[32m----> \u001b[39m\u001b[32m4\u001b[39m \u001b[38;5;28;01mfrom\u001b[39;00m\u001b[38;5;250m \u001b[39m\u001b[34;01mcore\u001b[39;00m\u001b[34;01m.\u001b[39;00m\u001b[34;01mvisualize\u001b[39;00m\u001b[34;01m.\u001b[39;00m\u001b[34;01mprocess_hidden_space\u001b[39;00m\u001b[38;5;250m \u001b[39m\u001b[38;5;28;01mimport\u001b[39;00m extract_pca_components, project_onto_pca\n\u001b[32m      5\u001b[39m \u001b[38;5;28;01mfrom\u001b[39;00m\u001b[38;5;250m \u001b[39m\u001b[34;01mcore\u001b[39;00m\u001b[34;01m.\u001b[39;00m\u001b[34;01mvisualize\u001b[39;00m\u001b[34;01m.\u001b[39;00m\u001b[34;01mvisualize_projections\u001b[39;00m\u001b[38;5;250m \u001b[39m\u001b[38;5;28;01mimport\u001b[39;00m visualize_explained_variance, visualize_projections\n\u001b[32m      6\u001b[39m \u001b[38;5;28;01mfrom\u001b[39;00m\u001b[38;5;250m \u001b[39m\u001b[34;01mcore\u001b[39;00m\u001b[34;01m.\u001b[39;00m\u001b[34;01mpreprocess_data\u001b[39;00m\u001b[34;01m.\u001b[39;00m\u001b[34;01mflores_plus\u001b[39;00m\u001b[38;5;250m \u001b[39m\u001b[38;5;28;01mimport\u001b[39;00m load_flores_plus\n",
      "\u001b[31mModuleNotFoundError\u001b[39m: No module named 'core.visualize.process_hidden_space'"
     ]
    }
   ],
   "source": [
    "import numpy as np\n",
    "\n",
    "from core.gather_data.hidden_space import collect_hidden_space_by_language\n",
    "from core.visualize.process_hidden_space import extract_pca_components, project_onto_pca\n",
    "from core.visualize.visualize_projections import visualize_explained_variance, visualize_projections\n",
    "from core.preprocess_data.flores_plus import load_flores_plus\n",
    "\n",
    "train_df, test_df = load_flores_plus([\"eng_Latn\", \"rus_Cyrl\"], {\"eng_Latn\": \"en\", \"rus_Cyrl\": \"ru\"}, train_size=50)\n",
    "\n",
    "test_df = test_df[:100]\n",
    "\n",
    "hidden_space_by_language_train, token_map_train = collect_hidden_space_by_language(model, tokenizer, train_df)\n",
    "combined_embeddings = np.concat(list(hidden_space_by_language_train.values()), axis=1)\n",
    "pca_components, pca_means, explained_variance_ratios = extract_pca_components(combined_embeddings)\n",
    "visualize_explained_variance(explained_variance_ratios)\n",
    "\n",
    "projections_train = project_onto_pca(hidden_space_by_language_train, pca_components, pca_means)\n",
    "visualize_projections(hidden_space_by_language_train, token_map_train, projections_train, tokenizer)\n",
    "\n",
    "hidden_space_by_language_test, token_map_test = collect_hidden_space_by_language(model, tokenizer, test_df)\n",
    "projections_test = project_onto_pca(hidden_space_by_language_test, pca_components, pca_means)\n",
    "visualize_projections(hidden_space_by_language_test, token_map_test, projections_test, tokenizer)"
   ]
  }
 ],
 "metadata": {
  "kernelspec": {
   "display_name": "lexical-reflections",
   "language": "python",
   "name": "python3"
  },
  "language_info": {
   "codemirror_mode": {
    "name": "ipython",
    "version": 3
   },
   "file_extension": ".py",
   "mimetype": "text/x-python",
   "name": "python",
   "nbconvert_exporter": "python",
   "pygments_lexer": "ipython3",
   "version": "3.12.0"
  }
 },
 "nbformat": 4,
 "nbformat_minor": 2
}
